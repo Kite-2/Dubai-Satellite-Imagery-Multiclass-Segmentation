{
 "cells": [
  {
   "cell_type": "markdown",
   "id": "8edc5d5e",
   "metadata": {},
   "source": [
    "# Multiclass semantic segmentation using U-Net with VGG, ResNet, and Inception as Backbones"
   ]
  },
  {
   "cell_type": "code",
   "execution_count": 2,
   "id": "0abb9dab",
   "metadata": {},
   "outputs": [],
   "source": [
    "import os\n",
    "os.environ['CUDA_VISIBLE_DEVICES'] = '0'\n",
    "\n",
    "import cv2\n",
    "import tensorflow.keras\n",
    "import numpy as np\n",
    "import matplotlib.pyplot as plt"
   ]
  },
  {
   "cell_type": "code",
   "execution_count": null,
   "id": "a1db0ce0",
   "metadata": {},
   "outputs": [],
   "source": []
  }
 ],
 "metadata": {
  "kernelspec": {
   "display_name": "Python 3",
   "language": "python",
   "name": "python3"
  },
  "language_info": {
   "codemirror_mode": {
    "name": "ipython",
    "version": 3
   },
   "file_extension": ".py",
   "mimetype": "text/x-python",
   "name": "python",
   "nbconvert_exporter": "python",
   "pygments_lexer": "ipython3",
   "version": "3.8.8"
  }
 },
 "nbformat": 4,
 "nbformat_minor": 5
}
